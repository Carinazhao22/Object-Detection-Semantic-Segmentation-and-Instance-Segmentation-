{
  "nbformat": 4,
  "nbformat_minor": 0,
  "metadata": {
    "colab": {
      "name": "lab3.ipynb",
      "provenance": [],
      "collapsed_sections": []
    },
    "kernelspec": {
      "name": "python3",
      "display_name": "Python 3"
    },
    "accelerator": "GPU",
    "widgets": {
      "application/vnd.jupyter.widget-state+json": {
        "9797c56c29ad40519ce4e23f7f5f3783": {
          "model_module": "@jupyter-widgets/controls",
          "model_name": "HBoxModel",
          "state": {
            "_view_name": "HBoxView",
            "_dom_classes": [],
            "_model_name": "HBoxModel",
            "_view_module": "@jupyter-widgets/controls",
            "_model_module_version": "1.5.0",
            "_view_count": null,
            "_view_module_version": "1.5.0",
            "box_style": "",
            "layout": "IPY_MODEL_0b835a2960f345c58a647e6fa3afc4a2",
            "_model_module": "@jupyter-widgets/controls",
            "children": [
              "IPY_MODEL_27e34e0524874eeab1ed1cc4155552b6",
              "IPY_MODEL_a7a087d43ebd43be9f29fe13b27b9275"
            ]
          }
        },
        "0b835a2960f345c58a647e6fa3afc4a2": {
          "model_module": "@jupyter-widgets/base",
          "model_name": "LayoutModel",
          "state": {
            "_view_name": "LayoutView",
            "grid_template_rows": null,
            "right": null,
            "justify_content": null,
            "_view_module": "@jupyter-widgets/base",
            "overflow": null,
            "_model_module_version": "1.2.0",
            "_view_count": null,
            "flex_flow": null,
            "width": null,
            "min_width": null,
            "border": null,
            "align_items": null,
            "bottom": null,
            "_model_module": "@jupyter-widgets/base",
            "top": null,
            "grid_column": null,
            "overflow_y": null,
            "overflow_x": null,
            "grid_auto_flow": null,
            "grid_area": null,
            "grid_template_columns": null,
            "flex": null,
            "_model_name": "LayoutModel",
            "justify_items": null,
            "grid_row": null,
            "max_height": null,
            "align_content": null,
            "visibility": null,
            "align_self": null,
            "height": null,
            "min_height": null,
            "padding": null,
            "grid_auto_rows": null,
            "grid_gap": null,
            "max_width": null,
            "order": null,
            "_view_module_version": "1.2.0",
            "grid_template_areas": null,
            "object_position": null,
            "object_fit": null,
            "grid_auto_columns": null,
            "margin": null,
            "display": null,
            "left": null
          }
        },
        "27e34e0524874eeab1ed1cc4155552b6": {
          "model_module": "@jupyter-widgets/controls",
          "model_name": "FloatProgressModel",
          "state": {
            "_view_name": "ProgressView",
            "style": "IPY_MODEL_bd7da80042d0496faa38dd291748e38e",
            "_dom_classes": [],
            "description": "100%",
            "_model_name": "FloatProgressModel",
            "bar_style": "success",
            "max": 198,
            "_view_module": "@jupyter-widgets/controls",
            "_model_module_version": "1.5.0",
            "value": 198,
            "_view_count": null,
            "_view_module_version": "1.5.0",
            "orientation": "horizontal",
            "min": 0,
            "description_tooltip": null,
            "_model_module": "@jupyter-widgets/controls",
            "layout": "IPY_MODEL_b3138e5629614ab49c04d08d87d1ec8b"
          }
        },
        "a7a087d43ebd43be9f29fe13b27b9275": {
          "model_module": "@jupyter-widgets/controls",
          "model_name": "HTMLModel",
          "state": {
            "_view_name": "HTMLView",
            "style": "IPY_MODEL_83487bf141a34492a5a8e5d05d2030d5",
            "_dom_classes": [],
            "description": "",
            "_model_name": "HTMLModel",
            "placeholder": "​",
            "_view_module": "@jupyter-widgets/controls",
            "_model_module_version": "1.5.0",
            "value": " 198/198 [13:56&lt;00:00,  4.23s/it]",
            "_view_count": null,
            "_view_module_version": "1.5.0",
            "description_tooltip": null,
            "_model_module": "@jupyter-widgets/controls",
            "layout": "IPY_MODEL_0e6031dd71a14577bd1f3fd1465492f7"
          }
        },
        "bd7da80042d0496faa38dd291748e38e": {
          "model_module": "@jupyter-widgets/controls",
          "model_name": "ProgressStyleModel",
          "state": {
            "_view_name": "StyleView",
            "_model_name": "ProgressStyleModel",
            "description_width": "initial",
            "_view_module": "@jupyter-widgets/base",
            "_model_module_version": "1.5.0",
            "_view_count": null,
            "_view_module_version": "1.2.0",
            "bar_color": null,
            "_model_module": "@jupyter-widgets/controls"
          }
        },
        "b3138e5629614ab49c04d08d87d1ec8b": {
          "model_module": "@jupyter-widgets/base",
          "model_name": "LayoutModel",
          "state": {
            "_view_name": "LayoutView",
            "grid_template_rows": null,
            "right": null,
            "justify_content": null,
            "_view_module": "@jupyter-widgets/base",
            "overflow": null,
            "_model_module_version": "1.2.0",
            "_view_count": null,
            "flex_flow": null,
            "width": null,
            "min_width": null,
            "border": null,
            "align_items": null,
            "bottom": null,
            "_model_module": "@jupyter-widgets/base",
            "top": null,
            "grid_column": null,
            "overflow_y": null,
            "overflow_x": null,
            "grid_auto_flow": null,
            "grid_area": null,
            "grid_template_columns": null,
            "flex": null,
            "_model_name": "LayoutModel",
            "justify_items": null,
            "grid_row": null,
            "max_height": null,
            "align_content": null,
            "visibility": null,
            "align_self": null,
            "height": null,
            "min_height": null,
            "padding": null,
            "grid_auto_rows": null,
            "grid_gap": null,
            "max_width": null,
            "order": null,
            "_view_module_version": "1.2.0",
            "grid_template_areas": null,
            "object_position": null,
            "object_fit": null,
            "grid_auto_columns": null,
            "margin": null,
            "display": null,
            "left": null
          }
        },
        "83487bf141a34492a5a8e5d05d2030d5": {
          "model_module": "@jupyter-widgets/controls",
          "model_name": "DescriptionStyleModel",
          "state": {
            "_view_name": "StyleView",
            "_model_name": "DescriptionStyleModel",
            "description_width": "",
            "_view_module": "@jupyter-widgets/base",
            "_model_module_version": "1.5.0",
            "_view_count": null,
            "_view_module_version": "1.2.0",
            "_model_module": "@jupyter-widgets/controls"
          }
        },
        "0e6031dd71a14577bd1f3fd1465492f7": {
          "model_module": "@jupyter-widgets/base",
          "model_name": "LayoutModel",
          "state": {
            "_view_name": "LayoutView",
            "grid_template_rows": null,
            "right": null,
            "justify_content": null,
            "_view_module": "@jupyter-widgets/base",
            "overflow": null,
            "_model_module_version": "1.2.0",
            "_view_count": null,
            "flex_flow": null,
            "width": null,
            "min_width": null,
            "border": null,
            "align_items": null,
            "bottom": null,
            "_model_module": "@jupyter-widgets/base",
            "top": null,
            "grid_column": null,
            "overflow_y": null,
            "overflow_x": null,
            "grid_auto_flow": null,
            "grid_area": null,
            "grid_template_columns": null,
            "flex": null,
            "_model_name": "LayoutModel",
            "justify_items": null,
            "grid_row": null,
            "max_height": null,
            "align_content": null,
            "visibility": null,
            "align_self": null,
            "height": null,
            "min_height": null,
            "padding": null,
            "grid_auto_rows": null,
            "grid_gap": null,
            "max_width": null,
            "order": null,
            "_view_module_version": "1.2.0",
            "grid_template_areas": null,
            "object_position": null,
            "object_fit": null,
            "grid_auto_columns": null,
            "margin": null,
            "display": null,
            "left": null
          }
        },
        "36df38c5bf714aecbff8dbadec465a79": {
          "model_module": "@jupyter-widgets/controls",
          "model_name": "HBoxModel",
          "state": {
            "_view_name": "HBoxView",
            "_dom_classes": [],
            "_model_name": "HBoxModel",
            "_view_module": "@jupyter-widgets/controls",
            "_model_module_version": "1.5.0",
            "_view_count": null,
            "_view_module_version": "1.5.0",
            "box_style": "",
            "layout": "IPY_MODEL_11fc97494a4c4e82833343da042657d0",
            "_model_module": "@jupyter-widgets/controls",
            "children": [
              "IPY_MODEL_40f2166fd2194e6b8e27ae8f7f191fd1",
              "IPY_MODEL_813ec662c0594b6fac06b17be3272285"
            ]
          }
        },
        "11fc97494a4c4e82833343da042657d0": {
          "model_module": "@jupyter-widgets/base",
          "model_name": "LayoutModel",
          "state": {
            "_view_name": "LayoutView",
            "grid_template_rows": null,
            "right": null,
            "justify_content": null,
            "_view_module": "@jupyter-widgets/base",
            "overflow": null,
            "_model_module_version": "1.2.0",
            "_view_count": null,
            "flex_flow": null,
            "width": null,
            "min_width": null,
            "border": null,
            "align_items": null,
            "bottom": null,
            "_model_module": "@jupyter-widgets/base",
            "top": null,
            "grid_column": null,
            "overflow_y": null,
            "overflow_x": null,
            "grid_auto_flow": null,
            "grid_area": null,
            "grid_template_columns": null,
            "flex": null,
            "_model_name": "LayoutModel",
            "justify_items": null,
            "grid_row": null,
            "max_height": null,
            "align_content": null,
            "visibility": null,
            "align_self": null,
            "height": null,
            "min_height": null,
            "padding": null,
            "grid_auto_rows": null,
            "grid_gap": null,
            "max_width": null,
            "order": null,
            "_view_module_version": "1.2.0",
            "grid_template_areas": null,
            "object_position": null,
            "object_fit": null,
            "grid_auto_columns": null,
            "margin": null,
            "display": null,
            "left": null
          }
        },
        "40f2166fd2194e6b8e27ae8f7f191fd1": {
          "model_module": "@jupyter-widgets/controls",
          "model_name": "FloatProgressModel",
          "state": {
            "_view_name": "ProgressView",
            "style": "IPY_MODEL_b8a326bfb2a64278ad045756006d386b",
            "_dom_classes": [],
            "description": "100%",
            "_model_name": "FloatProgressModel",
            "bar_style": "success",
            "max": 72,
            "_view_module": "@jupyter-widgets/controls",
            "_model_module_version": "1.5.0",
            "value": 72,
            "_view_count": null,
            "_view_module_version": "1.5.0",
            "orientation": "horizontal",
            "min": 0,
            "description_tooltip": null,
            "_model_module": "@jupyter-widgets/controls",
            "layout": "IPY_MODEL_5eaceca9bac64165829ce35a912a7fd7"
          }
        },
        "813ec662c0594b6fac06b17be3272285": {
          "model_module": "@jupyter-widgets/controls",
          "model_name": "HTMLModel",
          "state": {
            "_view_name": "HTMLView",
            "style": "IPY_MODEL_334d0975210343ffa076e013dae8f663",
            "_dom_classes": [],
            "description": "",
            "_model_name": "HTMLModel",
            "placeholder": "​",
            "_view_module": "@jupyter-widgets/controls",
            "_model_module_version": "1.5.0",
            "value": " 72/72 [06:50&lt;00:00,  5.71s/it]",
            "_view_count": null,
            "_view_module_version": "1.5.0",
            "description_tooltip": null,
            "_model_module": "@jupyter-widgets/controls",
            "layout": "IPY_MODEL_badc6996db954a608c7f8b6ab161c3b3"
          }
        },
        "b8a326bfb2a64278ad045756006d386b": {
          "model_module": "@jupyter-widgets/controls",
          "model_name": "ProgressStyleModel",
          "state": {
            "_view_name": "StyleView",
            "_model_name": "ProgressStyleModel",
            "description_width": "initial",
            "_view_module": "@jupyter-widgets/base",
            "_model_module_version": "1.5.0",
            "_view_count": null,
            "_view_module_version": "1.2.0",
            "bar_color": null,
            "_model_module": "@jupyter-widgets/controls"
          }
        },
        "5eaceca9bac64165829ce35a912a7fd7": {
          "model_module": "@jupyter-widgets/base",
          "model_name": "LayoutModel",
          "state": {
            "_view_name": "LayoutView",
            "grid_template_rows": null,
            "right": null,
            "justify_content": null,
            "_view_module": "@jupyter-widgets/base",
            "overflow": null,
            "_model_module_version": "1.2.0",
            "_view_count": null,
            "flex_flow": null,
            "width": null,
            "min_width": null,
            "border": null,
            "align_items": null,
            "bottom": null,
            "_model_module": "@jupyter-widgets/base",
            "top": null,
            "grid_column": null,
            "overflow_y": null,
            "overflow_x": null,
            "grid_auto_flow": null,
            "grid_area": null,
            "grid_template_columns": null,
            "flex": null,
            "_model_name": "LayoutModel",
            "justify_items": null,
            "grid_row": null,
            "max_height": null,
            "align_content": null,
            "visibility": null,
            "align_self": null,
            "height": null,
            "min_height": null,
            "padding": null,
            "grid_auto_rows": null,
            "grid_gap": null,
            "max_width": null,
            "order": null,
            "_view_module_version": "1.2.0",
            "grid_template_areas": null,
            "object_position": null,
            "object_fit": null,
            "grid_auto_columns": null,
            "margin": null,
            "display": null,
            "left": null
          }
        },
        "334d0975210343ffa076e013dae8f663": {
          "model_module": "@jupyter-widgets/controls",
          "model_name": "DescriptionStyleModel",
          "state": {
            "_view_name": "StyleView",
            "_model_name": "DescriptionStyleModel",
            "description_width": "",
            "_view_module": "@jupyter-widgets/base",
            "_model_module_version": "1.5.0",
            "_view_count": null,
            "_view_module_version": "1.2.0",
            "_model_module": "@jupyter-widgets/controls"
          }
        },
        "badc6996db954a608c7f8b6ab161c3b3": {
          "model_module": "@jupyter-widgets/base",
          "model_name": "LayoutModel",
          "state": {
            "_view_name": "LayoutView",
            "grid_template_rows": null,
            "right": null,
            "justify_content": null,
            "_view_module": "@jupyter-widgets/base",
            "overflow": null,
            "_model_module_version": "1.2.0",
            "_view_count": null,
            "flex_flow": null,
            "width": null,
            "min_width": null,
            "border": null,
            "align_items": null,
            "bottom": null,
            "_model_module": "@jupyter-widgets/base",
            "top": null,
            "grid_column": null,
            "overflow_y": null,
            "overflow_x": null,
            "grid_auto_flow": null,
            "grid_area": null,
            "grid_template_columns": null,
            "flex": null,
            "_model_name": "LayoutModel",
            "justify_items": null,
            "grid_row": null,
            "max_height": null,
            "align_content": null,
            "visibility": null,
            "align_self": null,
            "height": null,
            "min_height": null,
            "padding": null,
            "grid_auto_rows": null,
            "grid_gap": null,
            "max_width": null,
            "order": null,
            "_view_module_version": "1.2.0",
            "grid_template_areas": null,
            "object_position": null,
            "object_fit": null,
            "grid_auto_columns": null,
            "margin": null,
            "display": null,
            "left": null
          }
        }
      }
    }
  },
  "cells": [
    {
      "cell_type": "markdown",
      "metadata": {
        "id": "QHnVupBBn9eR"
      },
      "source": [
        "\n",
        "# Assignment 3\n",
        "\n",
        "This is a template notebook for Assignment 3.\n"
      ]
    },
    {
      "cell_type": "markdown",
      "metadata": {
        "id": "vM54r6jlKTII"
      },
      "source": [
        "## Install dependencies and initialization"
      ]
    },
    {
      "cell_type": "code",
      "metadata": {
        "id": "9_FzH13EjseR"
      },
      "source": [
        "# install dependencies: \n",
        "!pip install pyyaml==5.1 pycocotools>=2.0.1\n",
        "!pip install detectron2 -f https://dl.fbaipublicfiles.com/detectron2/wheels/cu101/torch1.6/index.html"
      ],
      "execution_count": null,
      "outputs": []
    },
    {
      "cell_type": "code",
      "metadata": {
        "id": "dqAUb5Y12qXt",
        "outputId": "cb76e04a-9e4f-4b24-8fb4-c85b81dfc8a0",
        "colab": {
          "base_uri": "https://localhost:8080/"
        }
      },
      "source": [
        "!pwd # shows current directory\n",
        "!ls  # shows all files in this directory\n",
        "!nvidia-smi # shows the specs and the current status of the allocated GPU"
      ],
      "execution_count": 2,
      "outputs": [
        {
          "output_type": "stream",
          "text": [
            "/content\n",
            "'=2.0.1'   data   drive   output   sample_data\n",
            "Tue Nov  3 05:42:40 2020       \n",
            "+-----------------------------------------------------------------------------+\n",
            "| NVIDIA-SMI 455.32.00    Driver Version: 418.67       CUDA Version: 10.1     |\n",
            "|-------------------------------+----------------------+----------------------+\n",
            "| GPU  Name        Persistence-M| Bus-Id        Disp.A | Volatile Uncorr. ECC |\n",
            "| Fan  Temp  Perf  Pwr:Usage/Cap|         Memory-Usage | GPU-Util  Compute M. |\n",
            "|                               |                      |               MIG M. |\n",
            "|===============================+======================+======================|\n",
            "|   0  Tesla V100-SXM2...  Off  | 00000000:00:04.0 Off |                    0 |\n",
            "| N/A   33C    P0    23W / 300W |      0MiB / 16130MiB |      0%      Default |\n",
            "|                               |                      |                 ERR! |\n",
            "+-------------------------------+----------------------+----------------------+\n",
            "                                                                               \n",
            "+-----------------------------------------------------------------------------+\n",
            "| Processes:                                                                  |\n",
            "|  GPU   GI   CI        PID   Type   Process name                  GPU Memory |\n",
            "|        ID   ID                                                   Usage      |\n",
            "|=============================================================================|\n",
            "|  No running processes found                                                 |\n",
            "+-----------------------------------------------------------------------------+\n"
          ],
          "name": "stdout"
        }
      ]
    },
    {
      "cell_type": "code",
      "metadata": {
        "id": "b-i4hmGYk1dL",
        "outputId": "f41309c0-9f4a-4be1-8ef4-03811f8845ff",
        "colab": {
          "base_uri": "https://localhost:8080/"
        }
      },
      "source": [
        "# import some common libraries\n",
        "from google.colab.patches import cv2_imshow\n",
        "from sklearn.metrics import jaccard_score\n",
        "from PIL import Image, ImageDraw\n",
        "from tqdm.notebook import tqdm\n",
        "import pandas as pd\n",
        "import numpy as np\n",
        "import datetime\n",
        "import random\n",
        "import json\n",
        "import cv2\n",
        "import csv\n",
        "import os\n",
        "\n",
        "# import some common pytorch utilities\n",
        "from torch.utils.data import Dataset, DataLoader\n",
        "import torchvision.transforms as transforms\n",
        "from torch.autograd import Variable\n",
        "import torch.nn.functional as F\n",
        "import torch.nn as nn\n",
        "import torch\n",
        "\n",
        "# import some common detectron2 utilities\n",
        "import detectron2\n",
        "from detectron2 import model_zoo\n",
        "from detectron2.config import get_cfg\n",
        "from detectron2.structures import BoxMode\n",
        "from detectron2.engine import DefaultTrainer\n",
        "from detectron2.engine import DefaultPredictor\n",
        "from detectron2.utils.logger import setup_logger\n",
        "from detectron2.utils.visualizer import ColorMode\n",
        "from detectron2.utils.visualizer import Visualizer\n",
        "from detectron2.data import build_detection_test_loader\n",
        "from detectron2.data import MetadataCatalog, DatasetCatalog\n",
        "from detectron2.evaluation import COCOEvaluator, inference_on_dataset\n",
        "import matplotlib.pyplot as plt\n",
        "setup_logger()"
      ],
      "execution_count": 3,
      "outputs": [
        {
          "output_type": "execute_result",
          "data": {
            "text/plain": [
              "<Logger detectron2 (DEBUG)>"
            ]
          },
          "metadata": {
            "tags": []
          },
          "execution_count": 3
        }
      ]
    },
    {
      "cell_type": "code",
      "metadata": {
        "id": "tUA_j6AF1L5Y",
        "outputId": "f2ded9a1-a438-460a-925f-2c6982761458",
        "colab": {
          "base_uri": "https://localhost:8080/"
        }
      },
      "source": [
        "# Make sure that GPU is available for your notebook. \n",
        "# Otherwise, you need to update the settungs in Runtime -> Change runtime type -> Hardware accelerator\n",
        "torch.cuda.is_available()"
      ],
      "execution_count": 4,
      "outputs": [
        {
          "output_type": "execute_result",
          "data": {
            "text/plain": [
              "True"
            ]
          },
          "metadata": {
            "tags": []
          },
          "execution_count": 4
        }
      ]
    },
    {
      "cell_type": "code",
      "metadata": {
        "id": "ZyAvNCJMmvFF",
        "outputId": "642b65b3-3d47-4d5f-eac5-e4d006ec17d2",
        "colab": {
          "base_uri": "https://localhost:8080/"
        }
      },
      "source": [
        "# You need to mount your google drive in order to load the data:\n",
        "from google.colab import drive\n",
        "drive.mount('/content/drive')\n",
        "# Put all the corresponding data files in a data folder and put the data folder in a same directory with this notebook.\n",
        "# Also create an output directory for your files such as the trained models and the output images."
      ],
      "execution_count": 5,
      "outputs": [
        {
          "output_type": "stream",
          "text": [
            "Drive already mounted at /content/drive; to attempt to forcibly remount, call drive.mount(\"/content/drive\", force_remount=True).\n"
          ],
          "name": "stdout"
        }
      ]
    },
    {
      "cell_type": "code",
      "metadata": {
        "id": "EbiyEHz0Oj0a"
      },
      "source": [
        " # ! unzip \"/content/drive/My Drive/Colab Notebooks/03-cnn-detection-segmentation/data/plane_dataset.zip\" > /dev/null"
      ],
      "execution_count": 6,
      "outputs": []
    },
    {
      "cell_type": "code",
      "metadata": {
        "id": "A_Di_fgL4HSv"
      },
      "source": [
        "# Define the location of current directory, which should contain data/train, data/test, and data/train.json.\n",
        "# TODO: approx 1 line\n",
        "Curr='data'\n",
        "BASE_DIR = '/content/drive/My Drive/Colab Notebooks/03-cnn-detection-segmentation'\n",
        "OUTPUT_DIR = '{}/output'.format(BASE_DIR)\n",
        "os.makedirs(OUTPUT_DIR, exist_ok=True)"
      ],
      "execution_count": 6,
      "outputs": []
    },
    {
      "cell_type": "markdown",
      "metadata": {
        "id": "Vk4gID50K03a"
      },
      "source": [
        "## Part 1: Object Detection"
      ]
    },
    {
      "cell_type": "markdown",
      "metadata": {
        "id": "xRV-KFJzlur4"
      },
      "source": [
        "### Data Loader"
      ]
    },
    {
      "cell_type": "code",
      "metadata": {
        "id": "dq9GY37ml1kr"
      },
      "source": [
        "'''\n",
        "# This function should return a list of data samples in which each sample is a dictionary. \n",
        "# Make sure to select the correct bbox_mode for the data\n",
        "# For the test data, you only have access to the images, therefore, the annotations should be empty.\n",
        "# Other values could be obtained from the image files.\n",
        "# TODO: approx 35 lines\n",
        "'''\n",
        "\n",
        "# refer from: https://colab.research.google.com/drive/16jcaJoc6bCFAQ96jDe2HwtXj7BMD_-m5#scrollTo=PIbAM2pv-urF\n",
        "def get_detection_data(set_name):\n",
        "  data_dirs = '{}/data'.format(BASE_DIR)\n",
        "  dataset = []\n",
        "\n",
        "  # load train.json \n",
        "  if 'train' in set_name:\n",
        "    \n",
        "    json_file=os.path.join(\"data\",\"train.json\")\n",
        "    with open(json_file) as f:\n",
        "      imgs_anns = json.load(f)\n",
        "    # sort imgs_anns based on id\n",
        "    imgs_anns=sorted(imgs_anns,key=lambda i:i['image_id'])\n",
        "    imgID={item['image_id']for item in imgs_anns}\n",
        "    \n",
        "    for ID in imgID:\n",
        "\n",
        "      record={}\n",
        "      anns=[d for d in imgs_anns if d['image_id']==ID]\n",
        "      filename = os.path.join(set_name, anns[0]['file_name'])\n",
        "       \n",
        "\n",
        "      width,height = Image.open(filename,mode=\"r\").size\n",
        "      record[\"file_name\"] = filename\n",
        "      record[\"image_id\"] = ID\n",
        "      record[\"height\"] = height\n",
        "      record[\"width\"] = width\n",
        "      objs=[]\n",
        "      \n",
        "      # combine all instance from each image\n",
        "      for indx, img in enumerate(anns): \n",
        "            obj={\n",
        "                \"bbox\": img['bbox'],\n",
        "                \"bbox_mode\": BoxMode.XYWH_ABS,\n",
        "                \"segmentation\": img['segmentation'],\n",
        "                \"category_id\": 0,\n",
        "                \"category_name\":img['category_name'],\n",
        "                \"iscrowd\": img['iscrowd'],\n",
        "                \"area\":img['area'],\n",
        "                }\n",
        "            objs.append(obj)\n",
        "      record[\"annotations\"] =objs\n",
        "      dataset.append(record)\n",
        "     \n",
        "  else:\n",
        "\n",
        "    # for test images\n",
        "    for filename in os.listdir(set_name):\n",
        "      \n",
        "      # ignore file: there is a wired file in my folder, end with '.ini'\n",
        "      if not filename.endswith('.ini'):\n",
        "        record={}\n",
        "        file_name=os.path.join(set_name,filename)\n",
        "        width,height=Image.open(file_name,mode=\"r\").size\n",
        "        record['file_name']=file_name\n",
        "        record['height']=height\n",
        "        record['width']=width\n",
        "        record['annotations']=[]\n",
        "        dataset.append(record)\n",
        "\n",
        "  return dataset\n"
      ],
      "execution_count": 7,
      "outputs": []
    },
    {
      "cell_type": "code",
      "metadata": {
        "id": "xCH-2mWxDVVu"
      },
      "source": [
        "'''\n",
        "# Remember to add your dataset to DatasetCatalog and MetadataCatalog\n",
        "# Consdier \"data_detection_train\" and \"data_detection_test\" for registration\n",
        "# You can also add an optional \"data_detection_val\" for your validation by spliting the training data\n",
        "# TODO: approx 5 lines\n",
        "'''\n",
        "# refer from: https://colab.research.google.com/drive/16jcaJoc6bCFAQ96jDe2HwtXj7BMD_-m5#scrollTo=PIbAM2pv-urF\n",
        "for d in [\"train\",\"test\"]:\n",
        "    DatasetCatalog.register(\"data_detection_\" + d, lambda d=d: get_detection_data('data/'+d))\n",
        "    MetadataCatalog.get(\"data_detection_\" + d).set(thing_classes=[\"plane\"])\n",
        "data_metadata = MetadataCatalog.get(\"data_detection_train\")"
      ],
      "execution_count": 8,
      "outputs": []
    },
    {
      "cell_type": "code",
      "metadata": {
        "id": "qNSdXCL_DVAz"
      },
      "source": [
        "'''\n",
        "# Visualize some samples using Visualizer to make sure that the function works correctly\n",
        "# TODO: approx 5 lines\n",
        "'''\n",
        "\n",
        "#refer from: https://colab.research.google.com/drive/16jcaJoc6bCFAQ96jDe2HwtXj7BMD_-m5#scrollTo=PIbAM2pv-urF\n",
        "\n",
        "dataset_dicts = get_detection_data(\"data/train\")\n",
        "for d in random.sample(dataset_dicts, 3):\n",
        "    img = cv2.imread(d[\"file_name\"])\n",
        "    visualizer = Visualizer(img[:, :, ::-1], metadata=data_metadata, scale=0.5)\n",
        "    out = visualizer.draw_dataset_dict(d)\n",
        "    cv2_imshow(out.get_image()[:, :, ::-1])"
      ],
      "execution_count": null,
      "outputs": []
    },
    {
      "cell_type": "markdown",
      "metadata": {
        "id": "uM1thbN-ntjI"
      },
      "source": [
        "### Set Configs"
      ]
    },
    {
      "cell_type": "code",
      "metadata": {
        "id": "HUjkwRsOn1O0"
      },
      "source": [
        "'''\n",
        "# Set the configs for the detection part in here.\n",
        "# TODO: approx 15 lines\n",
        "'''\n",
        "'''\n",
        "# Set the configs for the detection part in here.\n",
        "# TODO: approx 15 lines\n",
        "'''\n",
        "cfg = get_cfg()\n",
        "cfg.OUTPUT_DIR = \"{}/output/\".format(BASE_DIR)\n",
        "cfg.merge_from_file(model_zoo.get_config_file(\"COCO-Detection/faster_rcnn_R_101_FPN_3x.yaml\"))\n",
        "cfg.DATASETS.TRAIN = (\"data_detection_train\",)\n",
        "cfg.DATASETS.TEST = ()\n",
        "cfg.DATALOADER.NUM_WORKERS = 2\n",
        "cfg.MODEL.WEIGHTS = model_zoo.get_checkpoint_url(\"COCO-Detection/faster_rcnn_R_101_FPN_3x.yaml\")  # Let training initialize from model zoo\n",
        "cfg.SOLVER.IMS_PER_BATCH = 2\n",
        "cfg.SOLVER.BASE_LR = 0.00025  # pick a good LR\n",
        "cfg.SOLVER.MAX_ITER = 500    # 500 iterations seems good enough for this toy dataset; you will need to train longer for a practical dataset\n",
        "cfg.MODEL.ROI_HEADS.BATCH_SIZE_PER_IMAGE = 512  # faster, and good enough for this toy dataset (default: 512)\n",
        "cfg.MODEL.ROI_HEADS.NUM_CLASSES = 1  # only has one class (plane). (see https://detectron2.readthedocs.io/tutorials/datasets.html#update-the-config-for-new-datasets)\n"
      ],
      "execution_count": 12,
      "outputs": []
    },
    {
      "cell_type": "markdown",
      "metadata": {
        "id": "P4rql8pNokE4"
      },
      "source": [
        "### Training"
      ]
    },
    {
      "cell_type": "code",
      "metadata": {
        "id": "7d3KxiHO_0gb"
      },
      "source": [
        "'''\n",
        "# Create a DefaultTrainer using the above config and train the model\n",
        "# TODO: approx 5 lines\n",
        "'''\n",
        "os.makedirs(cfg.OUTPUT_DIR, exist_ok=True)\n",
        "trainer = DefaultTrainer(cfg) \n",
        "trainer.resume_or_load(resume=False)\n",
        "trainer.train()"
      ],
      "execution_count": null,
      "outputs": []
    },
    {
      "cell_type": "markdown",
      "metadata": {
        "id": "fRVEiICco3SV"
      },
      "source": [
        "### Evaluation and Visualization"
      ]
    },
    {
      "cell_type": "code",
      "metadata": {
        "id": "VYCIXdMZvDYL"
      },
      "source": [
        "'''\n",
        "# After training the model, you need to update cfg.MODEL.WEIGHTS\n",
        "# Define a DefaultPredictor\n",
        "'''\n",
        "cfg.MODEL.WEIGHTS = os.path.join(cfg.OUTPUT_DIR, \"model_final.pth\")  # path to the model we just trained\n",
        "cfg.MODEL.ROI_HEADS.SCORE_THRESH_TEST = 0.6   # set a custom testing threshold\n",
        "predictor = DefaultPredictor(cfg)"
      ],
      "execution_count": 14,
      "outputs": []
    },
    {
      "cell_type": "code",
      "metadata": {
        "id": "_hRCf86KGi5v"
      },
      "source": [
        "'''\n",
        "# Visualize the output for 3 random test samples\n",
        "# TODO: approx 10 lines\n",
        "'''\n",
        "def visualization_part1():\n",
        "  dataset_dicts = get_detection_data(\"data/test\")\n",
        "  for d in random.sample(dataset_dicts, 3): \n",
        "      #d=dataset_dicts[0]  \n",
        "      im = cv2.imread(d[\"file_name\"])\n",
        "      outputs = predictor(im)  # format is documented at https://detectron2.readthedocs.io/tutorials/models.html#model-output-format\n",
        "      v = Visualizer(im[:, :, ::-1],\n",
        "                    metadata=data_metadata, \n",
        "                    scale=0.5, \n",
        "                    #instance_mode=ColorMode.IMAGE_BW   # remove the colors of unsegmented pixels. This option is only available for segmentation models\n",
        "      )\n",
        "      \n",
        "      out = v.draw_instance_predictions(outputs[\"instances\"].to(\"cpu\"))\n",
        "      cv2_imshow(out.get_image()[:, :, ::-1])\n",
        "\n",
        "visualization_part1()"
      ],
      "execution_count": null,
      "outputs": []
    },
    {
      "cell_type": "code",
      "metadata": {
        "id": "D0wRdlcKo6BD"
      },
      "source": [
        "'''\n",
        "# Use COCOEvaluator and build_detection_train_loader\n",
        "# You can save the output predictions using inference_on_dataset\n",
        "# TODO: approx 5 lines\n",
        "'''\n",
        "# eval train\n",
        "evaluator = COCOEvaluator(\"data_detection_train\", cfg, False, output_dir=\"./output/\")\n",
        "val_loader = build_detection_test_loader(cfg, \"data_detection_train\")\n",
        "print(inference_on_dataset(trainer.model, val_loader, evaluator))\n"
      ],
      "execution_count": null,
      "outputs": []
    },
    {
      "cell_type": "markdown",
      "metadata": {
        "id": "EwYvbwcjpKBk"
      },
      "source": [
        "### Improvements\n",
        "\n",
        "For this part, you can bring any improvement which you have by adding new input parameters to the previous functions or defining new functions and variables."
      ]
    },
    {
      "cell_type": "code",
      "metadata": {
        "id": "xdR6KbCZpOlk"
      },
      "source": [
        "'''\n",
        "# Bring any changes and updates regarding the improvement in here\n",
        "'''\n",
        "cfg = get_cfg()\n",
        "cfg.OUTPUT_DIR = \"{}/output/\".format(BASE_DIR)\n",
        "cfg.merge_from_file(model_zoo.get_config_file(\"COCO-Detection/faster_rcnn_X_101_32x8d_FPN_3x.yaml\"))\n",
        "cfg.DATASETS.TRAIN = (\"data_detection_train\",)\n",
        "cfg.DATASETS.TEST = ()\n",
        "cfg.DATALOADER.NUM_WORKERS = 2\n",
        "cfg.MODEL.WEIGHTS = model_zoo.get_checkpoint_url(\"COCO-Detection/faster_rcnn_X_101_32x8d_FPN_3x.yaml\")  # Let training initialize from model zoo\n",
        "cfg.SOLVER.IMS_PER_BATCH = 2\n",
        "cfg.SOLVER.BASE_LR = 0.005  # pick a good LR\n",
        "cfg.SOLVER.MAX_ITER = 400    # 500 iterations seems good enough for this toy dataset; you will need to train longer for a practical dataset\n",
        "cfg.MODEL.ROI_HEADS.BATCH_SIZE_PER_IMAGE = 512  # faster, and good enough for this toy dataset (default: 512)\n",
        "cfg.MODEL.ROI_HEADS.NUM_CLASSES = 1  # only "
      ],
      "execution_count": 54,
      "outputs": []
    },
    {
      "cell_type": "code",
      "metadata": {
        "id": "kuFjZbQ8JtoK"
      },
      "source": [
        "'''\n",
        "# Create a DefaultTrainer using the above config and train the model\n",
        "# TODO: approx 5 lines\n",
        "'''\n",
        "os.makedirs(cfg.OUTPUT_DIR, exist_ok=True)\n",
        "trainer = DefaultTrainer(cfg) \n",
        "trainer.resume_or_load(resume=False)\n",
        "trainer.train()"
      ],
      "execution_count": null,
      "outputs": []
    },
    {
      "cell_type": "code",
      "metadata": {
        "id": "ZIMJ4t36KN_M"
      },
      "source": [
        "cfg.MODEL.WEIGHTS = os.path.join(cfg.OUTPUT_DIR, \"model_final.pth\")  # path to the model we just trained\n",
        "cfg.MODEL.ROI_HEADS.SCORE_THRESH_TEST = 0.6   # set a custom testing threshold\n",
        "predictor = DefaultPredictor(cfg)"
      ],
      "execution_count": 56,
      "outputs": []
    },
    {
      "cell_type": "code",
      "metadata": {
        "id": "9H6az61FJyCR"
      },
      "source": [
        "evaluator = COCOEvaluator(\"data_detection_train\", cfg, False, output_dir=\"./output/\")\n",
        "val_loader = build_detection_test_loader(cfg, \"data_detection_train\")\n",
        "print(inference_on_dataset(trainer.model, val_loader, evaluator))"
      ],
      "execution_count": null,
      "outputs": []
    },
    {
      "cell_type": "markdown",
      "metadata": {
        "id": "98_M4TooqSs2"
      },
      "source": [
        "## Part 2: Semantic Segmentation"
      ]
    },
    {
      "cell_type": "markdown",
      "metadata": {
        "id": "ByAEsMtIPLrO"
      },
      "source": [
        "### Data Loader"
      ]
    },
    {
      "cell_type": "code",
      "metadata": {
        "id": "xKJ5zfucRhZ_"
      },
      "source": [
        "save_info=[]\n",
        "save_id=[]\n",
        "train_dicts = get_detection_data(\"data/train\")\n",
        "def crop_all_box(dataset_dicts):\n",
        "\n",
        "  for j in range(len(dataset_dicts)):\n",
        "\n",
        "    data=dataset_dicts[j]\n",
        "    img=Image.open(data['file_name'])\n",
        "\n",
        "    for i in range(len(data['annotations'])):\n",
        "      obj=data[\"annotations\"][i]\n",
        "      \n",
        "      # cropped images\n",
        "      obj_img=img.crop((obj['bbox'][0],obj['bbox'][1],obj['bbox'][0]+obj['bbox'][2],obj['bbox'][1]+obj['bbox'][3]))\n",
        "      obj_img=obj_img.resize((128,128))\n",
        "      save_info.append(obj_img)\n",
        "      save_id.append((j,i))\n",
        "\n",
        " \n",
        "crop_all_box(train_dicts)"
      ],
      "execution_count": 21,
      "outputs": []
    },
    {
      "cell_type": "code",
      "metadata": {
        "id": "peQ95zLuIpkk"
      },
      "source": [
        "'''\n",
        "# Write a function that returns the cropped image and corresponding mask regarding the target bounding box\n",
        "# idx is the index of the target bbox in the data\n",
        "# high-resolution image could be passed or could be load from data['file_name']\n",
        "# You can use the mask attribute of detectron2.utils.visualizer.GenericMask \n",
        "#     to convert the segmentation annotations to binary masks\n",
        "# TODO: approx 10 lines\n",
        "'''\n",
        "from detectron2.utils.visualizer import GenericMask\n",
        "\n",
        "def normalize_data(obj):\n",
        "  x_min=min(obj[\"segmentation\"][0][0::2])\n",
        "  x_max=max(obj[\"segmentation\"][0][0::2])\n",
        "  y_min=min(obj[\"segmentation\"][0][1::2])\n",
        "  y_max=max(obj[\"segmentation\"][0][1::2])\n",
        "  \n",
        "  # create mask\n",
        "  for i in range(len(obj[\"segmentation\"][0])):\n",
        "    val=obj[\"segmentation\"][0][i]\n",
        "    if i%2==0:\n",
        "      obj[\"segmentation\"][0][i]=((val-x_min)*128)/(x_max-x_min)\n",
        "    else:\n",
        "      obj[\"segmentation\"][0][i]=((val-y_min)*128)/(y_max-y_min)\n",
        "  return obj[\"segmentation\"]\n",
        "\n",
        "\n",
        "def get_instance_sample(data, idx, img=None):\n",
        "  \n",
        "  index=save_id.index((idx[0],idx[1]))\n",
        "  obj_img=save_info[index]\n",
        "  \n",
        "  obj=data[\"annotations\"][idx[1]]\n",
        "  obj['segmentation']=normalize_data(obj)\n",
        "  obj_mask=GenericMask(obj['segmentation'],128,128).mask\n",
        "\n",
        "  return obj_img, obj_mask"
      ],
      "execution_count": 22,
      "outputs": []
    },
    {
      "cell_type": "code",
      "metadata": {
        "id": "sxrc9X_pjzj-"
      },
      "source": [
        "'''\n",
        "# We have provided a template data loader for your segmentation training\n",
        "# You need to complete the __getitem__() function before running the code\n",
        "# You may also need to add data augmentation or normalization in here\n",
        "'''\n",
        "\n",
        "class PlaneDataset(Dataset):\n",
        "  def __init__(self, set_name, data_list):\n",
        "      self.transforms = transforms.Compose([\n",
        "        \n",
        "          transforms.ToTensor(), # Converting the image to tensor and change the image format (Channels-Last => Channels-First)\n",
        "          transforms.Normalize(0,1)\n",
        "      ])\n",
        "      self.set_name = set_name\n",
        "      self.data = data_list\n",
        "      self.instance_map = []\n",
        "      for i, d in enumerate(self.data):\n",
        "        for j in range(len(d['annotations'])):\n",
        "          self.instance_map.append([i,j])\n",
        "\n",
        "  '''\n",
        "  # you can change the value of length to a small number like 10 for debugging of your training procedure and overfeating\n",
        "  # make sure to use the correct length for the final training\n",
        "  '''\n",
        "  def __len__(self):\n",
        "    return len(self.instance_map)\n",
        "\n",
        "  def numpy_to_tensor(self, img, mask):\n",
        "    if self.transforms is not None:\n",
        "        img = self.transforms(img)\n",
        "    img = torch.tensor(img, dtype=torch.float)\n",
        "    mask = torch.tensor(mask, dtype=torch.float)\n",
        "    return img, mask\n",
        "\n",
        "  '''\n",
        "  # Complete this part by using get_instance_sample function\n",
        "  # make sure to resize the img and mask to a fixed size (for example 128*128)\n",
        "  # you can use \"interpolate\" function of pytorch or \"numpy.resize\"\n",
        "  # TODO: 5 lines\n",
        "  '''\n",
        "  def __getitem__(self, idx):\n",
        "    if torch.is_tensor(idx):\n",
        "        idx = idx.tolist()\n",
        "    idx = self.instance_map[idx]\n",
        "    data = self.data[idx[0]]\n",
        "\n",
        "    img,mask=get_instance_sample(data,idx)\n",
        "    img=np.asarray(img)\n",
        "    img=np.resize(img,(128,128,3))\n",
        "    mask=np.resize(mask,(1,128,128))\n",
        "    img,mask=self.numpy_to_tensor(img,mask)\n",
        "    return img, mask\n",
        "\n",
        "def get_plane_dataset(set_name='train', batch_size=2):\n",
        "    my_data_list = DatasetCatalog.get(\"data_detection_{}\".format(set_name))\n",
        "    dataset = PlaneDataset(set_name, my_data_list)\n",
        "    loader = DataLoader(dataset, batch_size=batch_size, num_workers=4,\n",
        "                                              pin_memory=True, shuffle=True)\n",
        "    return loader, dataset"
      ],
      "execution_count": 28,
      "outputs": []
    },
    {
      "cell_type": "markdown",
      "metadata": {
        "id": "m6eH3NKaQQfc"
      },
      "source": [
        "### Network"
      ]
    },
    {
      "cell_type": "code",
      "metadata": {
        "id": "PeqR3s3dSBPN"
      },
      "source": [
        "'''\n",
        "# convolution module as a template layer consists of conv2d layer, batch normalization, and relu activation\n",
        "'''\n",
        "class conv(nn.Module):\n",
        "    def __init__(self, in_ch, out_ch, activation=True):\n",
        "        super(conv, self).__init__()\n",
        "        if(activation):\n",
        "          self.layer = nn.Sequential(\n",
        "              \n",
        "             nn.Conv2d(in_ch,64, 3, padding=1),\n",
        "             nn.BatchNorm2d(64),\n",
        "             nn.LeakyReLU(inplace=True),\n",
        "          \n",
        "              \n",
        "\n",
        "             nn.Conv2d(64, 64, 3, padding=1),\n",
        "             nn.BatchNorm2d(64),\n",
        "             nn.LeakyReLU(inplace=True), \n",
        "             nn.Conv2d(64, 128, 3, padding=1),\n",
        "             nn.BatchNorm2d(128),\n",
        "             nn.LeakyReLU(inplace=True), \n",
        "\n",
        "             nn.Conv2d(128, 64, 3, padding=1),\n",
        "             nn.BatchNorm2d(64),\n",
        "             nn.LeakyReLU(inplace=True), \n",
        "\n",
        "            \n",
        "\n",
        "             nn.Conv2d(64, out_ch, 3, padding=1),\n",
        "             nn.BatchNorm2d(out_ch),\n",
        "             nn.LeakyReLU(inplace=True), \n",
        "        \n",
        "          \n",
        "          \n",
        "          )\n",
        "        else:\n",
        "          self.layer = nn.Sequential(\n",
        "             nn.Conv2d(in_ch, out_ch, 3, padding=1),\n",
        "             nn.BatchNorm2d(out_ch)   \n",
        "             )\n",
        "\n",
        "    def forward(self, x):\n",
        "        x = self.layer(x)\n",
        "        return x\n",
        "\n",
        "'''\n",
        "# downsampling module equal to a conv module followed by a max-pool layer\n",
        "'''\n",
        "class down(nn.Module):\n",
        "    def __init__(self, in_ch, out_ch):\n",
        "        super(down, self).__init__()\n",
        "        self.layer = nn.Sequential(\n",
        "            conv(in_ch, out_ch),\n",
        "            nn.BatchNorm2d(out_ch),\n",
        "            nn.MaxPool2d(2),\n",
        "            nn.LeakyReLU(inplace=True),\n",
        "            )\n",
        "\n",
        "    def forward(self, x):\n",
        "        x = self.layer(x)\n",
        "        return x\n",
        "\n",
        "'''\n",
        "# upsampling module equal to a upsample function followed by a conv module\n",
        "'''\n",
        "class up(nn.Module):\n",
        "    def __init__(self, in_ch, out_ch, bilinear=False):\n",
        "        super(up, self).__init__()\n",
        "        if bilinear:\n",
        "            self.up = nn.Upsample(scale_factor=2, mode='bilinear', align_corners=True)\n",
        "        else:\n",
        "            self.up = nn.ConvTranspose2d(in_ch, in_ch, 2, stride=2)\n",
        "\n",
        "        self.conv = conv(in_ch, out_ch)\n",
        "\n",
        "    def forward(self, x):\n",
        "        y = self.up(x)\n",
        "        y = self.conv(y)\n",
        "        return y\n",
        "\n",
        "'''\n",
        "# the main model which you need to complete by using above modules.\n",
        "# you can also modify the above modules in order to improve your results.\n",
        "'''\n",
        "class MyModel(nn.Module):\n",
        "    def __init__(self):\n",
        "        super(MyModel, self).__init__()\n",
        "        \n",
        "        # Encoder\n",
        "        \n",
        "        self.input_conv = conv(3, 4)\n",
        "        self.down = down(4, 8)\n",
        "        \n",
        "        # Decoder\n",
        "        \n",
        "        self.up = up(8, 4)\n",
        "        self.output_conv = conv(4, 1, False) # ReLu activation is removed to keep the logits for the loss function\n",
        "        \n",
        "\n",
        "    def forward(self, input):\n",
        "      y = self.input_conv(input)\n",
        "      y = self.down(y)\n",
        "      y = self.up(y)\n",
        "      output = self.output_conv(y)\n",
        "      return output"
      ],
      "execution_count": 29,
      "outputs": []
    },
    {
      "cell_type": "markdown",
      "metadata": {
        "id": "rQj86vD9QT_Z"
      },
      "source": [
        "### Training"
      ]
    },
    {
      "cell_type": "code",
      "metadata": {
        "id": "MaZuO4SKSBuF"
      },
      "source": [
        "'''\n",
        "# The following is a basic training procedure to train the network\n",
        "# You need to update the code to get the best performance\n",
        "# TODO: approx ? lines\n",
        "'''\n",
        "\n",
        "# Set the hyperparameters\n",
        "num_epochs = 25\n",
        "batch_size = 4\n",
        "learning_rate = 0.03\n",
        "weight_decay = 1e-5\n",
        "\n",
        "model = MyModel() # initialize the model\n",
        "model = model.cuda() # move the model to GPU\n",
        "loader, _ = get_plane_dataset('train', batch_size) # initialize data_loader\n",
        "crit = nn.BCEWithLogitsLoss() # Define the loss function\n",
        "optim = torch.optim.SGD(model.parameters(),lr=learning_rate,weight_decay=weight_decay) # Initialize the optimizer as SGD\n",
        "\n",
        "# start the training procedure\n",
        "for epoch in range(num_epochs):\n",
        "  total_loss = 0\n",
        "\n",
        "  for (img, mask) in tqdm(loader):\n",
        "    img = torch.tensor(img, device=torch.device('cuda'), requires_grad = True)\n",
        "    mask = torch.tensor(mask, device=torch.device('cuda'), requires_grad = True)\n",
        "    pred = model(img)\n",
        "    loss = crit(pred, mask)\n",
        "    optim.zero_grad()\n",
        "    loss.backward()\n",
        "    optim.step()\n",
        "    total_loss += loss.cpu().data\n",
        "  print(\"Epoch: {}, Loss: {}\".format(epoch, total_loss/len(loader)))\n",
        "  torch.save(model.state_dict(), '{}/output/{}_segmentation_model.pth'.format(BASE_DIR, epoch))\n",
        "\n",
        "'''\n",
        "# Saving the final model\n",
        "'''\n",
        "torch.save(model.state_dict(), '{}/output/final_segmentation_model.pth'.format(BASE_DIR))\n"
      ],
      "execution_count": null,
      "outputs": []
    },
    {
      "cell_type": "markdown",
      "metadata": {
        "id": "0dyez1fyQYw7"
      },
      "source": [
        "### Evaluation and Visualization"
      ]
    },
    {
      "cell_type": "code",
      "metadata": {
        "id": "TDeViryUSCL2"
      },
      "source": [
        "'''\n",
        "# Before starting the evaluation, you need to set the model mode to eval\n",
        "# You may load the trained model again, in case if you want to continue your code later\n",
        "# TODO: approx 15 lines\n",
        "'''\n",
        "batch_size = 8\n",
        "model = MyModel().cuda()\n",
        "model.load_state_dict(torch.load('{}/output/final_segmentation_model.pth'.format(BASE_DIR)))\n",
        "model = model.eval() # chaning the model to evaluation mode will fix the bachnorm layers\n",
        "loader, dataset = get_plane_dataset('train', batch_size)\n",
        "\n",
        "total_iou = 0\n",
        "threshold=0.55\n",
        "m=nn.Sigmoid()\n",
        "num=0\n",
        "for (img, mask) in tqdm(loader):\n",
        "  with torch.no_grad():\n",
        "    img = img.cuda()\n",
        "    mask = mask.cuda()\n",
        "    mask = torch.unsqueeze(mask,1)\n",
        "    pred = model(img)\n",
        "\n",
        "    '''\n",
        "    ## Complete the code by obtaining the IoU for each img and print the final Mean IoU\n",
        "    '''\n",
        "    pred=m(pred)\n",
        "    pred=pred.cpu().numpy()\n",
        "    mask=mask.cpu().numpy()\n",
        "    for img_pred in range(len(pred)):\n",
        "      \n",
        "      pred[img_pred][0][pred[img_pred][0]>threshold]=1\n",
        "      pred[img_pred][0][pred[img_pred][0]<threshold]=0\n",
        "   \n",
        "      y_true=np.array(mask[img_pred][0][0]).flatten()\n",
        "      y_pred=np.array(pred[img_pred][0]).flatten()\n",
        "      total_iou+=jaccard_score(y_true,y_pred.round())\n",
        "    num+=len(pred)\n",
        "    \n",
        "print(\"\\n #images: {}, Mean IoU: {}\".format(num,total_iou/num))"
      ],
      "execution_count": null,
      "outputs": []
    },
    {
      "cell_type": "code",
      "metadata": {
        "id": "m83bPBLt0s3a"
      },
      "source": [
        " \n",
        "def visualize_test(pred_boxes,image,flag=1,idx=0):\n",
        "  \n",
        "  m=nn.Sigmoid()\n",
        "  threshold=0.55\n",
        "  x,y,x1,y1=pred_boxes[idx].tensor.cpu().numpy()[0]\n",
        "\n",
        "  image=image.crop((x,y,x1,y1))\n",
        "  image=image.resize((128,128))\n",
        "  image=np.asarray(image)\n",
        "  image=np.resize(image,(128,128,3))\n",
        "  \n",
        "  pro_data=transforms.ToTensor()(image)\n",
        "  pro_data=transforms.Normalize(0,1)(pro_data)\n",
        "  pro_data=pro_data.reshape(1,3,128,128)\n",
        "  \n",
        "  with torch.no_grad():\n",
        "    pred=model(pro_data.cuda())\n",
        "    pred=m(pred)\n",
        "    pred=pred.cpu().numpy()\n",
        "    pred[0][0][pred[0][0]>threshold]=1\n",
        "    pred[0][0][pred[0][0]<threshold]=0\n",
        "    if flag==1:\n",
        "      cv2_imshow(image*255)\n",
        "      cv2_imshow(pred[0][0]*255)\n",
        "    else:\n",
        "      return pred,x,x1,y,y1 "
      ],
      "execution_count": 22,
      "outputs": []
    },
    {
      "cell_type": "code",
      "metadata": {
        "id": "nwzH6ryfa88h"
      },
      "source": [
        "'''\n",
        "# Visualize 3 sample outputs\n",
        "# TODO: approx 5 lines\n",
        "'''\n",
        "def visualization_part2():\n",
        "  test_dicts = get_detection_data(\"data/test\")\n",
        "  for d in random.sample(test_dicts, 3): \n",
        "    arr_img = cv2.imread(d[\"file_name\"])\n",
        "    outputs = predictor(arr_img)\n",
        "    pred_boxes=outputs['instances'].get_fields()['pred_boxes']\n",
        "    image=Image.open(d[\"file_name\"])\n",
        "    visualize_test(pred_boxes,image)\n",
        "\n",
        "visualization_part2()"
      ],
      "execution_count": 20,
      "outputs": []
    },
    {
      "cell_type": "markdown",
      "metadata": {
        "id": "navoiGdrqaZT"
      },
      "source": [
        "## Part 3: Instance Segmentation\n",
        "\n",
        "In this part, you need to obtain the instance segmentation results for the test data by using the trained segmentation model in the previous part and the detection model in Part 1."
      ]
    },
    {
      "cell_type": "code",
      "metadata": {
        "id": "kuL0qGV8oNwH"
      },
      "source": [
        "def back_to(data,idx):\n",
        "  obj=data[\"annotations\"][idx[1]]\n",
        "  mask=GenericMask(obj['segmentation'],data['height'],data['width']).mask\n",
        "  mask=mask*(idx[1]+1)\n",
        "  return mask\n",
        " "
      ],
      "execution_count": 24,
      "outputs": []
    },
    {
      "cell_type": "markdown",
      "metadata": {
        "id": "vBwk33DGBowP"
      },
      "source": [
        "### Get Prediction"
      ]
    },
    {
      "cell_type": "code",
      "metadata": {
        "id": "crrZ8TG-Ot2J"
      },
      "source": [
        "'''\n",
        "# Define a new function to obtain the prediction mask by passing a sample data\n",
        "# For this part, you need to use all the previous parts (predictor, get_instance_sample, data preprocessings, etc)\n",
        "# TODO: approx 35 lines\n",
        "'''\n",
        "def get_prediction_mask(data,ID):\n",
        "  \n",
        "  # read images\n",
        "  gt_mask=0\n",
        "  img=Image.open(data['file_name'])\n",
        "  if len(img.size)!=3:\n",
        "    img=img.convert('RGB')\n",
        " \n",
        "  pass_image=img\n",
        "  width,height=img.size\n",
        "  img= np.asarray(img)\n",
        "   \n",
        "  # pred_mask\n",
        "  outputs = predictor(img)\n",
        "  whole=np.zeros((height,width))\n",
        "\n",
        "  pred_boxes=outputs['instances'].get_fields()['pred_boxes']\n",
        "  for idx in range(len(pred_boxes)):\n",
        "    pred,x,x1,y,y1=visualize_test(pred_boxes,pass_image,0,idx)\n",
        "    pred=pred*(idx+1)\n",
        "    x=int(x.round())\n",
        "    x1=int(x1.round())\n",
        "    y=int(y.round())\n",
        "    y1=int(y1.round())\n",
        "\n",
        "    w=x1-x\n",
        "    h=y1-y\n",
        "    pred=pred[0][0]\n",
        "    pred_mask=Image.fromarray(np.uint8(pred))\n",
        "    pred_mask=pred_mask.resize((w,h))\n",
        "    whole[y:y1,x:x1]=pred_mask\n",
        "  pred_mask=whole\n",
        "  \n",
        "  \n",
        "  # get gt_mask (don't execute when generating outputs)\n",
        "  if len(data['annotations'])!=0:\n",
        "    gt_mask=back_to(data,[ID,0])\n",
        "    for i in range(1,len(data['annotations'])):\n",
        "        gt_mask= back_to(data,[ID,i])+gt_mask\n",
        "\n",
        "    if gt_mask.dtype=='uint16':\n",
        "      gt_mask=np.uint8(gt_mask)\n",
        "    gt_mask=torch.tensor(gt_mask, device=torch.device('cuda'))\n",
        "\n",
        "   \n",
        "  img=torch.tensor(img, device=torch.device('cuda'))\n",
        "  pred_mask=torch.tensor(pred_mask, device=torch.device('cuda'))\n",
        "   \n",
        "  \n",
        " \n",
        "  return img, gt_mask, pred_mask\n",
        "  "
      ],
      "execution_count": 25,
      "outputs": []
    },
    {
      "cell_type": "markdown",
      "metadata": {
        "id": "fc7TSK6EBi9u"
      },
      "source": [
        "### Visualization and Submission"
      ]
    },
    {
      "cell_type": "code",
      "metadata": {
        "id": "H7T2YX8MBiGO"
      },
      "source": [
        "'''\n",
        "# Visualise the output prediction as well as the GT Mask and Input image for a sample input\n",
        "# TODO: approx 10 lines\n",
        "'''\n",
        "def visualization_whole():\n",
        "  test_dicts = get_detection_data(\"data/test\")\n",
        "  random_list=np.random.randint(0,len(test_dicts)-1,size=1)\n",
        "  for i in random_list:\n",
        "    img,gt_mask,pred_mask=get_prediction_mask(test_dicts[i],i)\n",
        "    \n",
        "    img=cv2.cvtColor(img.cuda().cpu().numpy(),cv2.COLOR_BGR2GRAY)\n",
        "    pred_mask=cv2.normalize(pred_mask.cuda().cpu().numpy(),None,0,255,cv2.NORM_MINMAX,dtype=cv2.CV_8U)\n",
        "    merge=np.hstack((img,pred_mask))\n",
        "    cv2_imshow(cv2.resize(merge,(800,600)))\n",
        "    \n",
        "visualization_whole()\n",
        "\n",
        "\n",
        "\n"
      ],
      "execution_count": null,
      "outputs": []
    },
    {
      "cell_type": "code",
      "metadata": {
        "id": "uPo_03up-g_f"
      },
      "source": [
        "'''\n",
        "# ref: https://www.kaggle.com/rakhlin/fast-run-length-encoding-python\n",
        "# https://www.kaggle.com/c/airbus-ship-detection/overview/evaluation\n",
        "'''\n",
        "def rle_encoding(x):\n",
        "    '''\n",
        "    x: numpy array, 1 - mask, 0 - background\n",
        "    Returns run length as list\n",
        "    '''\n",
        "    dots = torch.where(torch.flatten(x.long())==1)[0]\n",
        "    if(len(dots)==0):\n",
        "      return []\n",
        "    inds = torch.where(dots[1:]!=dots[:-1]+1)[0]+1\n",
        "    inds = torch.cat((torch.tensor([0], device=torch.device('cuda'), dtype=torch.long), inds))\n",
        "    tmpdots = dots[inds]\n",
        "    inds = torch.cat((inds, torch.tensor([len(dots)], device=torch.device('cuda'))))\n",
        "    inds = inds[1:] - inds[:-1]\n",
        "    runs = torch.cat((tmpdots, inds)).reshape((2,-1))\n",
        "    runs = torch.flatten(torch.transpose(runs, 0, 1)).cpu().data.numpy()\n",
        "    return ' '.join([str(i) for i in runs])"
      ],
      "execution_count": 41,
      "outputs": []
    },
    {
      "cell_type": "code",
      "metadata": {
        "id": "zv0rab2LJev-",
        "outputId": "844ade93-a011-4b7e-e526-3d07eb554504",
        "colab": {
          "base_uri": "https://localhost:8080/",
          "height": 114,
          "referenced_widgets": [
            "9797c56c29ad40519ce4e23f7f5f3783",
            "0b835a2960f345c58a647e6fa3afc4a2",
            "27e34e0524874eeab1ed1cc4155552b6",
            "a7a087d43ebd43be9f29fe13b27b9275",
            "bd7da80042d0496faa38dd291748e38e",
            "b3138e5629614ab49c04d08d87d1ec8b",
            "83487bf141a34492a5a8e5d05d2030d5",
            "0e6031dd71a14577bd1f3fd1465492f7",
            "36df38c5bf714aecbff8dbadec465a79",
            "11fc97494a4c4e82833343da042657d0",
            "40f2166fd2194e6b8e27ae8f7f191fd1",
            "813ec662c0594b6fac06b17be3272285",
            "b8a326bfb2a64278ad045756006d386b",
            "5eaceca9bac64165829ce35a912a7fd7",
            "334d0975210343ffa076e013dae8f663",
            "badc6996db954a608c7f8b6ab161c3b3"
          ]
        }
      },
      "source": [
        "'''\n",
        "# You need to upload the csv file on kaggle\n",
        "# The speed of your code in the previous parts highly affects the running time of this part\n",
        "'''\n",
        "\n",
        "preddic = {\"ImageId\": [], \"EncodedPixels\": []}\n",
        "\n",
        "'''\n",
        "# Writing the predictions of the training set\n",
        "'''\n",
        "my_data_list = DatasetCatalog.get(\"data_detection_{}\".format('train'))\n",
        "for i in tqdm(range(len(my_data_list)), position=0, leave=True):\n",
        "  sample = my_data_list[i]\n",
        "  sample['image_id'] = sample['file_name'].split(\"/\")[-1][:-4]\n",
        "  img, true_mask, pred_mask = get_prediction_mask(sample,i)\n",
        "  inds = torch.unique(pred_mask)\n",
        "  if(len(inds)==1):\n",
        "    preddic['ImageId'].append(sample['image_id'])\n",
        "    preddic['EncodedPixels'].append([])\n",
        "  else:\n",
        "    for index in inds:\n",
        "      if(index == 0):\n",
        "        continue\n",
        "      tmp_mask = (pred_mask==index)\n",
        "      encPix = rle_encoding(tmp_mask)\n",
        "      preddic['ImageId'].append(sample['image_id'])\n",
        "      preddic['EncodedPixels'].append(encPix)\n",
        "\n",
        "'''\n",
        "# Writing the predictions of the test set\n",
        "'''\n",
        "\n",
        "my_data_list = DatasetCatalog.get(\"data_detection_{}\".format('test'))\n",
        "for i in tqdm(range(len(my_data_list)), position=0, leave=True):\n",
        "  sample = my_data_list[i]\n",
        "  sample['image_id'] = sample['file_name'].split(\"/\")[-1][:-4]\n",
        "  img, true_mask, pred_mask = get_prediction_mask(sample,i)\n",
        "  inds = torch.unique(pred_mask)\n",
        "  if(len(inds)==1):\n",
        "    preddic['ImageId'].append(sample['image_id'])\n",
        "    preddic['EncodedPixels'].append([])\n",
        "  else:\n",
        "    for j, index in enumerate(inds):\n",
        "      if(index == 0):\n",
        "        continue\n",
        "      tmp_mask = (pred_mask==index).double()\n",
        "      encPix = rle_encoding(tmp_mask)\n",
        "      preddic['ImageId'].append(sample['image_id'])\n",
        "      preddic['EncodedPixels'].append(encPix)\n",
        "\n",
        "pred_file = open(\"{}/pred.csv\".format(BASE_DIR), 'w')\n",
        "pd.DataFrame(preddic).to_csv(pred_file, index=False)\n",
        "pred_file.close()\n"
      ],
      "execution_count": 48,
      "outputs": [
        {
          "output_type": "display_data",
          "data": {
            "application/vnd.jupyter.widget-view+json": {
              "model_id": "9797c56c29ad40519ce4e23f7f5f3783",
              "version_minor": 0,
              "version_major": 2
            },
            "text/plain": [
              "HBox(children=(FloatProgress(value=0.0, max=198.0), HTML(value='')))"
            ]
          },
          "metadata": {
            "tags": []
          }
        },
        {
          "output_type": "stream",
          "text": [
            "\n"
          ],
          "name": "stdout"
        },
        {
          "output_type": "display_data",
          "data": {
            "application/vnd.jupyter.widget-view+json": {
              "model_id": "36df38c5bf714aecbff8dbadec465a79",
              "version_minor": 0,
              "version_major": 2
            },
            "text/plain": [
              "HBox(children=(FloatProgress(value=0.0, max=72.0), HTML(value='')))"
            ]
          },
          "metadata": {
            "tags": []
          }
        },
        {
          "output_type": "stream",
          "text": [
            "\n"
          ],
          "name": "stdout"
        }
      ]
    },
    {
      "cell_type": "markdown",
      "metadata": {
        "id": "p7nN4SduqrpI"
      },
      "source": [
        "## Part 4: Mask R-CNN\n",
        "\n",
        "For this part you need to follow a same procedure to part 2 with the configs of Mask R-CNN, other parts are generally the same as part 2."
      ]
    },
    {
      "cell_type": "markdown",
      "metadata": {
        "id": "axWf7drKNXYd"
      },
      "source": [
        "### Data Loader"
      ]
    },
    {
      "cell_type": "code",
      "metadata": {
        "id": "yC1FDCcQN2LH"
      },
      "source": [
        "dataset_dicts = get_detection_data(\"data/test\")"
      ],
      "execution_count": 9,
      "outputs": []
    },
    {
      "cell_type": "markdown",
      "metadata": {
        "id": "lG5slAhQNjE7"
      },
      "source": [
        "### Network"
      ]
    },
    {
      "cell_type": "code",
      "metadata": {
        "id": "KG1pnKLMOcjS"
      },
      "source": [
        "cfg = get_cfg()\n",
        "cfg.OUTPUT_DIR = \"{}/output/\".format(BASE_DIR)\n",
        "cfg.merge_from_file(model_zoo.get_config_file(\"COCO-InstanceSegmentation/mask_rcnn_R_50_FPN_3x.yaml\"))\n",
        "cfg.DATASETS.TRAIN = (\"data_detection_train\",)\n",
        "cfg.DATASETS.TEST = ()\n",
        "cfg.DATALOADER.NUM_WORKERS = 2\n",
        "cfg.MODEL.WEIGHTS = model_zoo.get_checkpoint_url(\"COCO-InstanceSegmentation/mask_rcnn_R_50_FPN_3x.yaml\")  # Let training initialize from model zoo\n",
        "cfg.SOLVER.IMS_PER_BATCH = 2\n",
        "cfg.SOLVER.BASE_LR = 0.005  # pick a good LR\n",
        "cfg.SOLVER.MAX_ITER = 400    # 500 iterations seems good enough for this toy dataset; you will need to train longer for a practical dataset\n",
        "cfg.MODEL.ROI_HEADS.BATCH_SIZE_PER_IMAGE = 512  # faster, and good enough for this toy dataset (default: 512)\n",
        "cfg.MODEL.ROI_HEADS.NUM_CLASSES = 1  # only "
      ],
      "execution_count": 10,
      "outputs": []
    },
    {
      "cell_type": "markdown",
      "metadata": {
        "id": "t7ifeV1sNvtt"
      },
      "source": [
        "### Training"
      ]
    },
    {
      "cell_type": "code",
      "metadata": {
        "id": "tc4K0Nz5OeKk"
      },
      "source": [
        "os.makedirs(cfg.OUTPUT_DIR, exist_ok=True)\n",
        "trainer = DefaultTrainer(cfg) \n",
        "trainer.resume_or_load(resume=False)\n",
        "trainer.train() "
      ],
      "execution_count": null,
      "outputs": []
    },
    {
      "cell_type": "code",
      "metadata": {
        "id": "ep4eTF8n0_cY"
      },
      "source": [
        "# update weight and set predictor\n",
        "cfg.MODEL.WEIGHTS = os.path.join(cfg.OUTPUT_DIR, \"model_final.pth\")  # path to the model we just trained\n",
        "cfg.MODEL.ROI_HEADS.SCORE_THRESH_TEST = 0.6   # set a custom testing threshold\n",
        "predictor = DefaultPredictor(cfg)"
      ],
      "execution_count": 12,
      "outputs": []
    },
    {
      "cell_type": "markdown",
      "metadata": {
        "id": "298QruFnNxyn"
      },
      "source": [
        "### Evaluation and Visualization"
      ]
    },
    {
      "cell_type": "code",
      "metadata": {
        "id": "KcGwV5-9Oetp"
      },
      "source": [
        "'''\n",
        "# Use COCOEvaluator and build_detection_train_loader\n",
        "# You can save the output predictions using inference_on_dataset\n",
        "# TODO: approx 5 lines\n",
        "'''\n",
        "# eval train\n",
        "evaluator = COCOEvaluator(\"data_detection_train\", cfg, False, output_dir=\"./output/\")\n",
        "val_loader = build_detection_test_loader(cfg, \"data_detection_train\")\n",
        "print(inference_on_dataset(trainer.model, val_loader, evaluator))\n"
      ],
      "execution_count": null,
      "outputs": []
    },
    {
      "cell_type": "code",
      "metadata": {
        "id": "l_3wS2BFLLGp"
      },
      "source": [
        "visualization_part1()"
      ],
      "execution_count": null,
      "outputs": []
    }
  ]
}